{
 "cells": [
  {
   "cell_type": "markdown",
   "id": "c8aeb840",
   "metadata": {},
   "source": [
    "# RNN Minimum Wages Europe"
   ]
  },
  {
   "cell_type": "code",
   "execution_count": 1,
   "id": "e6116778",
   "metadata": {
    "scrolled": true
   },
   "outputs": [],
   "source": [
    "import numpy as np\n",
    "import pandas as pd\n",
    "import matplotlib.pyplot as plt\n",
    "import seaborn as sns"
   ]
  },
  {
   "cell_type": "code",
   "execution_count": 4,
   "id": "1301c4b8",
   "metadata": {},
   "outputs": [],
   "source": [
    "#training data\n",
    "td = pd.read_csv(\"currestat.csv\")"
   ]
  },
  {
   "cell_type": "code",
   "execution_count": 5,
   "id": "7ccf9819",
   "metadata": {},
   "outputs": [
    {
     "data": {
      "text/html": [
       "<div>\n",
       "<style scoped>\n",
       "    .dataframe tbody tr th:only-of-type {\n",
       "        vertical-align: middle;\n",
       "    }\n",
       "\n",
       "    .dataframe tbody tr th {\n",
       "        vertical-align: top;\n",
       "    }\n",
       "\n",
       "    .dataframe thead th {\n",
       "        text-align: right;\n",
       "    }\n",
       "</style>\n",
       "<table border=\"1\" class=\"dataframe\">\n",
       "  <thead>\n",
       "    <tr style=\"text-align: right;\">\n",
       "      <th></th>\n",
       "      <th>DATAFLOW</th>\n",
       "      <th>LAST UPDATE</th>\n",
       "      <th>freq</th>\n",
       "      <th>currency</th>\n",
       "      <th>geo</th>\n",
       "      <th>TIME_PERIOD</th>\n",
       "      <th>OBS_VALUE</th>\n",
       "      <th>OBS_FLAG</th>\n",
       "    </tr>\n",
       "  </thead>\n",
       "  <tbody>\n",
       "    <tr>\n",
       "      <th>0</th>\n",
       "      <td>ESTAT:EARN_MW_CUR(1.0)</td>\n",
       "      <td>21/07/23 11:00:00</td>\n",
       "      <td>S</td>\n",
       "      <td>EUR</td>\n",
       "      <td>AL</td>\n",
       "      <td>1999-S2</td>\n",
       "      <td>45.12</td>\n",
       "      <td>NaN</td>\n",
       "    </tr>\n",
       "    <tr>\n",
       "      <th>1</th>\n",
       "      <td>ESTAT:EARN_MW_CUR(1.0)</td>\n",
       "      <td>21/07/23 11:00:00</td>\n",
       "      <td>S</td>\n",
       "      <td>EUR</td>\n",
       "      <td>AL</td>\n",
       "      <td>2000-S1</td>\n",
       "      <td>46.98</td>\n",
       "      <td>NaN</td>\n",
       "    </tr>\n",
       "    <tr>\n",
       "      <th>2</th>\n",
       "      <td>ESTAT:EARN_MW_CUR(1.0)</td>\n",
       "      <td>21/07/23 11:00:00</td>\n",
       "      <td>S</td>\n",
       "      <td>EUR</td>\n",
       "      <td>AL</td>\n",
       "      <td>2000-S2</td>\n",
       "      <td>52.36</td>\n",
       "      <td>NaN</td>\n",
       "    </tr>\n",
       "    <tr>\n",
       "      <th>3</th>\n",
       "      <td>ESTAT:EARN_MW_CUR(1.0)</td>\n",
       "      <td>21/07/23 11:00:00</td>\n",
       "      <td>S</td>\n",
       "      <td>EUR</td>\n",
       "      <td>AL</td>\n",
       "      <td>2001-S1</td>\n",
       "      <td>52.80</td>\n",
       "      <td>NaN</td>\n",
       "    </tr>\n",
       "    <tr>\n",
       "      <th>4</th>\n",
       "      <td>ESTAT:EARN_MW_CUR(1.0)</td>\n",
       "      <td>21/07/23 11:00:00</td>\n",
       "      <td>S</td>\n",
       "      <td>EUR</td>\n",
       "      <td>AL</td>\n",
       "      <td>2001-S2</td>\n",
       "      <td>60.13</td>\n",
       "      <td>NaN</td>\n",
       "    </tr>\n",
       "  </tbody>\n",
       "</table>\n",
       "</div>"
      ],
      "text/plain": [
       "                 DATAFLOW        LAST UPDATE freq currency geo TIME_PERIOD  \\\n",
       "0  ESTAT:EARN_MW_CUR(1.0)  21/07/23 11:00:00    S      EUR  AL     1999-S2   \n",
       "1  ESTAT:EARN_MW_CUR(1.0)  21/07/23 11:00:00    S      EUR  AL     2000-S1   \n",
       "2  ESTAT:EARN_MW_CUR(1.0)  21/07/23 11:00:00    S      EUR  AL     2000-S2   \n",
       "3  ESTAT:EARN_MW_CUR(1.0)  21/07/23 11:00:00    S      EUR  AL     2001-S1   \n",
       "4  ESTAT:EARN_MW_CUR(1.0)  21/07/23 11:00:00    S      EUR  AL     2001-S2   \n",
       "\n",
       "   OBS_VALUE OBS_FLAG  \n",
       "0      45.12      NaN  \n",
       "1      46.98      NaN  \n",
       "2      52.36      NaN  \n",
       "3      52.80      NaN  \n",
       "4      60.13      NaN  "
      ]
     },
     "execution_count": 5,
     "metadata": {},
     "output_type": "execute_result"
    }
   ],
   "source": [
    "td.head()"
   ]
  },
  {
   "cell_type": "code",
   "execution_count": 6,
   "id": "286f4f07",
   "metadata": {},
   "outputs": [
    {
     "data": {
      "text/plain": [
       "(5349, 8)"
      ]
     },
     "execution_count": 6,
     "metadata": {},
     "output_type": "execute_result"
    }
   ],
   "source": [
    "td.shape"
   ]
  },
  {
   "cell_type": "code",
   "execution_count": 7,
   "id": "39b794d4",
   "metadata": {
    "scrolled": true
   },
   "outputs": [
    {
     "data": {
      "text/plain": [
       "<seaborn.axisgrid.PairGrid at 0x7fc4cfff96f0>"
      ]
     },
     "execution_count": 7,
     "metadata": {},
     "output_type": "execute_result"
    },
    {
     "data": {
      "image/png": "[encoded data removed]",
      "text/plain": [
       "<Figure size 180x180 with 2 Axes>"
      ]
     },
     "metadata": {
      "needs_background": "light"
     },
     "output_type": "display_data"
    }
   ],
   "source": [
    "sns.pairplot(td)"
   ]
  },
  {
   "cell_type": "code",
   "execution_count": 7,
   "id": "734ac39f",
   "metadata": {},
   "outputs": [
    {
     "data": {
      "text/html": [
       "<div>\n",
       "<style scoped>\n",
       "    .dataframe tbody tr th:only-of-type {\n",
       "        vertical-align: middle;\n",
       "    }\n",
       "\n",
       "    .dataframe tbody tr th {\n",
       "        vertical-align: top;\n",
       "    }\n",
       "\n",
       "    .dataframe thead th {\n",
       "        text-align: right;\n",
       "    }\n",
       "</style>\n",
       "<table border=\"1\" class=\"dataframe\">\n",
       "  <thead>\n",
       "    <tr style=\"text-align: right;\">\n",
       "      <th></th>\n",
       "      <th>OBS_VALUE</th>\n",
       "    </tr>\n",
       "  </thead>\n",
       "  <tbody>\n",
       "    <tr>\n",
       "      <th>count</th>\n",
       "      <td>3837.000000</td>\n",
       "    </tr>\n",
       "    <tr>\n",
       "      <th>mean</th>\n",
       "      <td>2699.689805</td>\n",
       "    </tr>\n",
       "    <tr>\n",
       "      <th>std</th>\n",
       "      <td>12927.692364</td>\n",
       "    </tr>\n",
       "    <tr>\n",
       "      <th>min</th>\n",
       "      <td>6.850000</td>\n",
       "    </tr>\n",
       "    <tr>\n",
       "      <th>25%</th>\n",
       "      <td>364.900000</td>\n",
       "    </tr>\n",
       "    <tr>\n",
       "      <th>50%</th>\n",
       "      <td>683.760000</td>\n",
       "    </tr>\n",
       "    <tr>\n",
       "      <th>75%</th>\n",
       "      <td>1203.360000</td>\n",
       "    </tr>\n",
       "    <tr>\n",
       "      <th>max</th>\n",
       "      <td>232000.000000</td>\n",
       "    </tr>\n",
       "  </tbody>\n",
       "</table>\n",
       "</div>"
      ],
      "text/plain": [
       "           OBS_VALUE\n",
       "count    3837.000000\n",
       "mean     2699.689805\n",
       "std     12927.692364\n",
       "min         6.850000\n",
       "25%       364.900000\n",
       "50%       683.760000\n",
       "75%      1203.360000\n",
       "max    232000.000000"
      ]
     },
     "execution_count": 7,
     "metadata": {},
     "output_type": "execute_result"
    }
   ],
   "source": [
    "td.describe()"
   ]
  },
  {
   "cell_type": "code",
   "execution_count": 8,
   "id": "12d0a385",
   "metadata": {
    "scrolled": true
   },
   "outputs": [
    {
     "data": {
      "text/html": [
       "<div>\n",
       "<style scoped>\n",
       "    .dataframe tbody tr th:only-of-type {\n",
       "        vertical-align: middle;\n",
       "    }\n",
       "\n",
       "    .dataframe tbody tr th {\n",
       "        vertical-align: top;\n",
       "    }\n",
       "\n",
       "    .dataframe thead th {\n",
       "        text-align: right;\n",
       "    }\n",
       "</style>\n",
       "<table border=\"1\" class=\"dataframe\">\n",
       "  <thead>\n",
       "    <tr style=\"text-align: right;\">\n",
       "      <th></th>\n",
       "      <th>DATAFLOW</th>\n",
       "      <th>LAST UPDATE</th>\n",
       "      <th>freq</th>\n",
       "      <th>currency</th>\n",
       "      <th>geo</th>\n",
       "      <th>TIME_PERIOD</th>\n",
       "      <th>OBS_FLAG</th>\n",
       "    </tr>\n",
       "  </thead>\n",
       "  <tbody>\n",
       "    <tr>\n",
       "      <th>count</th>\n",
       "      <td>5349</td>\n",
       "      <td>5349</td>\n",
       "      <td>5349</td>\n",
       "      <td>5349</td>\n",
       "      <td>5349</td>\n",
       "      <td>5349</td>\n",
       "      <td>1570</td>\n",
       "    </tr>\n",
       "    <tr>\n",
       "      <th>unique</th>\n",
       "      <td>1</td>\n",
       "      <td>1</td>\n",
       "      <td>1</td>\n",
       "      <td>3</td>\n",
       "      <td>37</td>\n",
       "      <td>50</td>\n",
       "      <td>2</td>\n",
       "    </tr>\n",
       "    <tr>\n",
       "      <th>top</th>\n",
       "      <td>ESTAT:EARN_MW_CUR(1.0)</td>\n",
       "      <td>21/07/23 11:00:00</td>\n",
       "      <td>S</td>\n",
       "      <td>NAC</td>\n",
       "      <td>US</td>\n",
       "      <td>2020-S2</td>\n",
       "      <td>z</td>\n",
       "    </tr>\n",
       "    <tr>\n",
       "      <th>freq</th>\n",
       "      <td>5349</td>\n",
       "      <td>5349</td>\n",
       "      <td>5349</td>\n",
       "      <td>1784</td>\n",
       "      <td>150</td>\n",
       "      <td>111</td>\n",
       "      <td>1512</td>\n",
       "    </tr>\n",
       "  </tbody>\n",
       "</table>\n",
       "</div>"
      ],
      "text/plain": [
       "                      DATAFLOW        LAST UPDATE  freq currency   geo  \\\n",
       "count                     5349               5349  5349     5349  5349   \n",
       "unique                       1                  1     1        3    37   \n",
       "top     ESTAT:EARN_MW_CUR(1.0)  21/07/23 11:00:00     S      NAC    US   \n",
       "freq                      5349               5349  5349     1784   150   \n",
       "\n",
       "       TIME_PERIOD OBS_FLAG  \n",
       "count         5349     1570  \n",
       "unique          50        2  \n",
       "top        2020-S2        z  \n",
       "freq           111     1512  "
      ]
     },
     "execution_count": 8,
     "metadata": {},
     "output_type": "execute_result"
    }
   ],
   "source": [
    "td.describe(include=object)"
   ]
  },
  {
   "cell_type": "code",
   "execution_count": 9,
   "id": "5d4c53d1",
   "metadata": {},
   "outputs": [
    {
     "name": "stdout",
     "output_type": "stream",
     "text": [
      "<class 'pandas.core.frame.DataFrame'>\n",
      "RangeIndex: 5349 entries, 0 to 5348\n",
      "Data columns (total 8 columns):\n",
      " #   Column       Non-Null Count  Dtype  \n",
      "---  ------       --------------  -----  \n",
      " 0   DATAFLOW     5349 non-null   object \n",
      " 1   LAST UPDATE  5349 non-null   object \n",
      " 2   freq         5349 non-null   object \n",
      " 3   currency     5349 non-null   object \n",
      " 4   geo          5349 non-null   object \n",
      " 5   TIME_PERIOD  5349 non-null   object \n",
      " 6   OBS_VALUE    3837 non-null   float64\n",
      " 7   OBS_FLAG     1570 non-null   object \n",
      "dtypes: float64(1), object(7)\n",
      "memory usage: 334.4+ KB\n"
     ]
    }
   ],
   "source": [
    "td.info()"
   ]
  },
  {
   "cell_type": "code",
   "execution_count": 10,
   "id": "1a6dff51",
   "metadata": {},
   "outputs": [],
   "source": [
    "td = td.iloc[:,6].values"
   ]
  },
  {
   "cell_type": "code",
   "execution_count": 11,
   "id": "5dfe02e7",
   "metadata": {},
   "outputs": [
    {
     "data": {
      "text/plain": [
       "numpy.ndarray"
      ]
     },
     "execution_count": 11,
     "metadata": {},
     "output_type": "execute_result"
    }
   ],
   "source": [
    "type(td)"
   ]
  },
  {
   "cell_type": "code",
   "execution_count": 12,
   "id": "2959f34f",
   "metadata": {},
   "outputs": [],
   "source": [
    "from sklearn.preprocessing import MinMaxScaler"
   ]
  },
  {
   "cell_type": "code",
   "execution_count": 16,
   "id": "641ba99c",
   "metadata": {},
   "outputs": [],
   "source": [
    "scaler = MinMaxScaler()"
   ]
  },
  {
   "cell_type": "code",
   "execution_count": 17,
   "id": "53ea0454",
   "metadata": {},
   "outputs": [],
   "source": [
    "td = scaler.fit_transform(td.reshape(-1,1))"
   ]
  },
  {
   "cell_type": "code",
   "execution_count": 18,
   "id": "873af806",
   "metadata": {},
   "outputs": [],
   "source": [
    "x_td = []\n",
    "y_td = []"
   ]
  },
  {
   "cell_type": "markdown",
   "id": "bc17f23e",
   "metadata": {},
   "source": [
    "Our data shows 48 semesters, therefore we are going to use our 24 semesters to predict "
   ]
  },
  {
   "cell_type": "code",
   "execution_count": 19,
   "id": "3c7e82f9",
   "metadata": {},
   "outputs": [],
   "source": [
    "for i in range(24, len(td)):\n",
    "    x_td.append(td[i-24:i, 0])\n",
    "    y_td.append(td[i,0])"
   ]
  },
  {
   "cell_type": "code",
   "execution_count": 20,
   "id": "02e8eafc",
   "metadata": {},
   "outputs": [],
   "source": [
    "x_td = np.array(x_td)\n",
    "y_td = np.array(y_td)"
   ]
  },
  {
   "cell_type": "code",
   "execution_count": 21,
   "id": "294aef57",
   "metadata": {},
   "outputs": [
    {
     "name": "stdout",
     "output_type": "stream",
     "text": [
      "(5325, 24)\n",
      "(5325,)\n"
     ]
    }
   ],
   "source": [
    "print(x_td.shape)\n",
    "\n",
    "print(y_td.shape)"
   ]
  },
  {
   "cell_type": "code",
   "execution_count": 22,
   "id": "ee815138",
   "metadata": {},
   "outputs": [],
   "source": [
    "x_td = np.reshape(x_td, (x_td.shape[0],\n",
    "                         x_td.shape[1],\n",
    "                         1))"
   ]
  },
  {
   "cell_type": "code",
   "execution_count": 23,
   "id": "f9a97d4e",
   "metadata": {},
   "outputs": [
    {
     "name": "stdout",
     "output_type": "stream",
     "text": [
      "(5325, 24, 1)\n"
     ]
    }
   ],
   "source": [
    "print(x_td.shape)"
   ]
  },
  {
   "cell_type": "code",
   "execution_count": null,
   "id": "8c3ff005",
   "metadata": {},
   "outputs": [],
   "source": [
    "from tensorflow.keras.models import Sequential\n",
    "from tensorflow.keras.layers import Dense\n",
    "from tensorflow.keras.layers import LSTM\n",
    "from tensorflow.keras.layers import Dropout"
   ]
  },
  {
   "cell_type": "code",
   "execution_count": 1,
   "id": "31e4b771",
   "metadata": {},
   "outputs": [
    {
     "ename": "NameError",
     "evalue": "name 'Sequential' is not defined",
     "output_type": "error",
     "traceback": [
      "\u001b[0;31m---------------------------------------------------------------------------\u001b[0m",
      "\u001b[0;31mNameError\u001b[0m                                 Traceback (most recent call last)",
      "\u001b[0;32m/tmp/ipykernel_4424/1398724509.py\u001b[0m in \u001b[0;36m<module>\u001b[0;34m\u001b[0m\n\u001b[0;32m----> 1\u001b[0;31m \u001b[0mrnn\u001b[0m \u001b[0;34m=\u001b[0m \u001b[0mSequential\u001b[0m\u001b[0;34m(\u001b[0m\u001b[0;34m)\u001b[0m\u001b[0;34m\u001b[0m\u001b[0;34m\u001b[0m\u001b[0m\n\u001b[0m",
      "\u001b[0;31mNameError\u001b[0m: name 'Sequential' is not defined"
     ]
    }
   ],
   "source": [
    "rnn = Sequential()"
   ]
  },
  {
   "cell_type": "code",
   "execution_count": null,
   "id": "98db1172",
   "metadata": {},
   "outputs": [],
   "source": [
    "rnn.add(LSTM(unit = 45, return_sequences = True, inout_shape = (x_td.shape[1],1)))"
   ]
  },
  {
   "cell_type": "code",
   "execution_count": null,
   "id": "0512c398",
   "metadata": {},
   "outputs": [],
   "source": [
    "rnn.add(Dropout(0,2))"
   ]
  },
  {
   "cell_type": "code",
   "execution_count": null,
   "id": "00579ac0",
   "metadata": {},
   "outputs": [],
   "source": [
    "rnn.add(LSTM(units = 45, return_sequences =True))\n",
    "rnn.add(Dropout(0.2))\n",
    "rnn.add(LSTM(units = 45, return_sequences =True))\n",
    "rnn.add(Dropout(0.2))\n",
    "rnn.add(LSTM(units = 45))\n",
    "rnn.add(Dropout(0.2))"
   ]
  },
  {
   "cell_type": "code",
   "execution_count": null,
   "id": "0c580519",
   "metadata": {},
   "outputs": [],
   "source": [
    "rnn.add(Dense(units = 45))"
   ]
  },
  {
   "cell_type": "code",
   "execution_count": null,
   "id": "f2ff93a1",
   "metadata": {},
   "outputs": [],
   "source": [
    "rnn.compile(optimizer = 'adam', loss = 'mean_squared_error')"
   ]
  },
  {
   "cell_type": "code",
   "execution_count": null,
   "id": "6272d3b5",
   "metadata": {},
   "outputs": [],
   "source": [
    "rnn.fit(x_td, y_td, epochs = 100, batch_size =32)"
   ]
  },
  {
   "cell_type": "code",
   "execution_count": null,
   "id": "72fa7456",
   "metadata": {},
   "outputs": [],
   "source": [
    "testdata = pd.read_csv('')\n",
    "testdata = testdata.iloc[:,6].values"
   ]
  },
  {
   "cell_type": "code",
   "execution_count": null,
   "id": "9fe4cee6",
   "metadata": {},
   "outputs": [],
   "source": [
    "print(testdata.shape)"
   ]
  },
  {
   "cell_type": "code",
   "execution_count": null,
   "id": "56728446",
   "metadata": {},
   "outputs": [],
   "source": [
    "plt.plot(testdata)"
   ]
  },
  {
   "cell_type": "code",
   "execution_count": null,
   "id": "ca51286a",
   "metadata": {},
   "outputs": [],
   "source": [
    "unscaled_training_data = pd.read_csv('data/FB_training_data.csv')\n",
    "\n",
    "unscaled_test_data = pd.read_csv('data/FB_test_data.csv')"
   ]
  },
  {
   "cell_type": "raw",
   "id": "ec4fdfa0",
   "metadata": {},
   "source": [
    "all_data=pd.concat((unscaled_training_data['Close'],unscaled_test_data['Close']), axis = 0)"
   ]
  },
  {
   "cell_type": "code",
   "execution_count": null,
   "id": "0417241b",
   "metadata": {},
   "outputs": [],
   "source": [
    "x_test_data = all_data[len(all_data) - len(test_data) - 40:].values"
   ]
  },
  {
   "cell_type": "code",
   "execution_count": null,
   "id": "41ab624a",
   "metadata": {},
   "outputs": [],
   "source": [
    "len(x_test_data)"
   ]
  },
  {
   "cell_type": "code",
   "execution_count": null,
   "id": "fbfb6ab8",
   "metadata": {},
   "outputs": [],
   "source": [
    "x_test_data = np.reshape(x_test_data, (-1, 1))"
   ]
  },
  {
   "cell_type": "code",
   "execution_count": null,
   "id": "faf470a5",
   "metadata": {},
   "outputs": [],
   "source": [
    "x_test_data = scaler.transform(x_test_data)"
   ]
  },
  {
   "cell_type": "code",
   "execution_count": null,
   "id": "fce6f646",
   "metadata": {},
   "outputs": [],
   "source": [
    "final_x_test_data = []\n",
    "\n",
    "for i in range(40, len(x_test_data)):\n",
    "\n",
    "    final_x_test_data.append(x_test_data[i-40:i, 0])\n",
    "\n",
    "final_x_test_data = np.array(final_x_test_data)"
   ]
  },
  {
   "cell_type": "code",
   "execution_count": null,
   "id": "6fb73c1f",
   "metadata": {},
   "outputs": [],
   "source": [
    "final_x_test_data = np.reshape(final_x_test_data, (final_x_test_data.shape[0], final_x_test_data.shape[1],1))"
   ]
  },
  {
   "cell_type": "code",
   "execution_count": null,
   "id": "0b12d184",
   "metadata": {},
   "outputs": [],
   "source": [
    "predictions = rnn.predict(final_x_test_data)"
   ]
  },
  {
   "cell_type": "code",
   "execution_count": null,
   "id": "87293c96",
   "metadata": {},
   "outputs": [],
   "source": [
    "plt.plot(predictions) "
   ]
  },
  {
   "cell_type": "code",
   "execution_count": null,
   "id": "5a8218a6",
   "metadata": {},
   "outputs": [],
   "source": [
    "unscaled_predictions = scaler.inverse_transform(predictions)\n",
    "\n",
    "plt.plot(unscaled_predictions)"
   ]
  },
  {
   "cell_type": "code",
   "execution_count": null,
   "id": "5ea5307a",
   "metadata": {},
   "outputs": [],
   "source": [
    "plt.plot(unscaled_predictions, color = '#135485', label = \"Predictions\")\n",
    "\n",
    "plt.plot(test_data, color = 'black', label = \"Real Data\")\n",
    "\n",
    "plt.title('Facebook Stock Price Predictions')\n",
    "\n",
    "plt.legend()"
   ]
  },
  {
   "cell_type": "code",
   "execution_count": null,
   "id": "3ad30aab",
   "metadata": {},
   "outputs": [],
   "source": [
    "print(\"The first trading day price prediction is for Jan 2020 is: \",unscaled_predictions[0])\n",
    "print(\"The real first trading day price for Jan 2020 is: \",test_data[0])"
   ]
  },
  {
   "cell_type": "code",
   "execution_count": null,
   "id": "4721901a",
   "metadata": {},
   "outputs": [],
   "source": [
    "print(\"The last trading day price prediction is for Jan 2020 is: \",unscaled_predictions[20])\n",
    "print(\"The real last trading day price for Jan 2020 is: \",test_data[20])"
   ]
  }
 ],
 "metadata": {
  "kernelspec": {
   "display_name": "Python 3 (ipykernel)",
   "language": "python",
   "name": "python3"
  },
  "language_info": {
   "codemirror_mode": {
    "name": "ipython",
    "version": 3
   },
   "file_extension": ".py",
   "mimetype": "text/x-python",
   "name": "python",
   "nbconvert_exporter": "python",
   "pygments_lexer": "ipython3",
   "version": "3.10.12"
  }
 },
 "nbformat": 4,
 "nbformat_minor": 5
}
