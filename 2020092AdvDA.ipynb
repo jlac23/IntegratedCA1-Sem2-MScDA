{
 "cells": [
  {
   "cell_type": "markdown",
   "id": "c8aeb840",
   "metadata": {},
   "source": [
    "# RNN Minimum Wages Europe"
   ]
  },
  {
   "cell_type": "code",
   "execution_count": 64,
   "id": "e6116778",
   "metadata": {
    "scrolled": true
   },
   "outputs": [],
   "source": [
    "import numpy as np\n",
    "import pandas as pd\n",
    "import matplotlib.pyplot as plt\n",
    "import seaborn as sns"
   ]
  },
  {
   "cell_type": "code",
   "execution_count": 65,
   "id": "1301c4b8",
   "metadata": {},
   "outputs": [],
   "source": [
    "#training data\n",
    "td = pd.read_csv(\"currestat.csv\")"
   ]
  },
  {
   "cell_type": "code",
   "execution_count": 66,
   "id": "7ccf9819",
   "metadata": {},
   "outputs": [
    {
     "data": {
      "text/html": [
       "<div>\n",
       "<style scoped>\n",
       "    .dataframe tbody tr th:only-of-type {\n",
       "        vertical-align: middle;\n",
       "    }\n",
       "\n",
       "    .dataframe tbody tr th {\n",
       "        vertical-align: top;\n",
       "    }\n",
       "\n",
       "    .dataframe thead th {\n",
       "        text-align: right;\n",
       "    }\n",
       "</style>\n",
       "<table border=\"1\" class=\"dataframe\">\n",
       "  <thead>\n",
       "    <tr style=\"text-align: right;\">\n",
       "      <th></th>\n",
       "      <th>DATAFLOW</th>\n",
       "      <th>LAST UPDATE</th>\n",
       "      <th>freq</th>\n",
       "      <th>currency</th>\n",
       "      <th>geo</th>\n",
       "      <th>TIME_PERIOD</th>\n",
       "      <th>OBS_VALUE</th>\n",
       "      <th>OBS_FLAG</th>\n",
       "    </tr>\n",
       "  </thead>\n",
       "  <tbody>\n",
       "    <tr>\n",
       "      <th>0</th>\n",
       "      <td>ESTAT:EARN_MW_CUR(1.0)</td>\n",
       "      <td>21/07/23 11:00:00</td>\n",
       "      <td>S</td>\n",
       "      <td>EUR</td>\n",
       "      <td>AL</td>\n",
       "      <td>1999-S2</td>\n",
       "      <td>45.12</td>\n",
       "      <td>NaN</td>\n",
       "    </tr>\n",
       "    <tr>\n",
       "      <th>1</th>\n",
       "      <td>ESTAT:EARN_MW_CUR(1.0)</td>\n",
       "      <td>21/07/23 11:00:00</td>\n",
       "      <td>S</td>\n",
       "      <td>EUR</td>\n",
       "      <td>AL</td>\n",
       "      <td>2000-S1</td>\n",
       "      <td>46.98</td>\n",
       "      <td>NaN</td>\n",
       "    </tr>\n",
       "    <tr>\n",
       "      <th>2</th>\n",
       "      <td>ESTAT:EARN_MW_CUR(1.0)</td>\n",
       "      <td>21/07/23 11:00:00</td>\n",
       "      <td>S</td>\n",
       "      <td>EUR</td>\n",
       "      <td>AL</td>\n",
       "      <td>2000-S2</td>\n",
       "      <td>52.36</td>\n",
       "      <td>NaN</td>\n",
       "    </tr>\n",
       "    <tr>\n",
       "      <th>3</th>\n",
       "      <td>ESTAT:EARN_MW_CUR(1.0)</td>\n",
       "      <td>21/07/23 11:00:00</td>\n",
       "      <td>S</td>\n",
       "      <td>EUR</td>\n",
       "      <td>AL</td>\n",
       "      <td>2001-S1</td>\n",
       "      <td>52.80</td>\n",
       "      <td>NaN</td>\n",
       "    </tr>\n",
       "    <tr>\n",
       "      <th>4</th>\n",
       "      <td>ESTAT:EARN_MW_CUR(1.0)</td>\n",
       "      <td>21/07/23 11:00:00</td>\n",
       "      <td>S</td>\n",
       "      <td>EUR</td>\n",
       "      <td>AL</td>\n",
       "      <td>2001-S2</td>\n",
       "      <td>60.13</td>\n",
       "      <td>NaN</td>\n",
       "    </tr>\n",
       "  </tbody>\n",
       "</table>\n",
       "</div>"
      ],
      "text/plain": [
       "                 DATAFLOW        LAST UPDATE freq currency geo TIME_PERIOD  \\\n",
       "0  ESTAT:EARN_MW_CUR(1.0)  21/07/23 11:00:00    S      EUR  AL     1999-S2   \n",
       "1  ESTAT:EARN_MW_CUR(1.0)  21/07/23 11:00:00    S      EUR  AL     2000-S1   \n",
       "2  ESTAT:EARN_MW_CUR(1.0)  21/07/23 11:00:00    S      EUR  AL     2000-S2   \n",
       "3  ESTAT:EARN_MW_CUR(1.0)  21/07/23 11:00:00    S      EUR  AL     2001-S1   \n",
       "4  ESTAT:EARN_MW_CUR(1.0)  21/07/23 11:00:00    S      EUR  AL     2001-S2   \n",
       "\n",
       "   OBS_VALUE OBS_FLAG  \n",
       "0      45.12      NaN  \n",
       "1      46.98      NaN  \n",
       "2      52.36      NaN  \n",
       "3      52.80      NaN  \n",
       "4      60.13      NaN  "
      ]
     },
     "execution_count": 66,
     "metadata": {},
     "output_type": "execute_result"
    }
   ],
   "source": [
    "td.head()"
   ]
  },
  {
   "cell_type": "code",
   "execution_count": 67,
   "id": "286f4f07",
   "metadata": {},
   "outputs": [
    {
     "data": {
      "text/plain": [
       "(5349, 8)"
      ]
     },
     "execution_count": 67,
     "metadata": {},
     "output_type": "execute_result"
    }
   ],
   "source": [
    "td.shape"
   ]
  },
  {
   "cell_type": "code",
   "execution_count": 68,
   "id": "39b794d4",
   "metadata": {
    "scrolled": true
   },
   "outputs": [
    {
     "data": {
      "text/plain": [
       "<seaborn.axisgrid.PairGrid at 0x170ff6fd210>"
      ]
     },
     "execution_count": 68,
     "metadata": {},
     "output_type": "execute_result"
    },
    {
     "data": {
      "image/png": "[encoded data removed]",
      "text/plain": [
       "<Figure size 250x250 with 2 Axes>"
      ]
     },
     "metadata": {},
     "output_type": "display_data"
    }
   ],
   "source": [
    "sns.pairplot(td)"
   ]
  },
  {
   "cell_type": "code",
   "execution_count": 69,
   "id": "734ac39f",
   "metadata": {},
   "outputs": [
    {
     "data": {
      "text/html": [
       "<div>\n",
       "<style scoped>\n",
       "    .dataframe tbody tr th:only-of-type {\n",
       "        vertical-align: middle;\n",
       "    }\n",
       "\n",
       "    .dataframe tbody tr th {\n",
       "        vertical-align: top;\n",
       "    }\n",
       "\n",
       "    .dataframe thead th {\n",
       "        text-align: right;\n",
       "    }\n",
       "</style>\n",
       "<table border=\"1\" class=\"dataframe\">\n",
       "  <thead>\n",
       "    <tr style=\"text-align: right;\">\n",
       "      <th></th>\n",
       "      <th>OBS_VALUE</th>\n",
       "    </tr>\n",
       "  </thead>\n",
       "  <tbody>\n",
       "    <tr>\n",
       "      <th>count</th>\n",
       "      <td>3837.000000</td>\n",
       "    </tr>\n",
       "    <tr>\n",
       "      <th>mean</th>\n",
       "      <td>2699.689805</td>\n",
       "    </tr>\n",
       "    <tr>\n",
       "      <th>std</th>\n",
       "      <td>12927.692364</td>\n",
       "    </tr>\n",
       "    <tr>\n",
       "      <th>min</th>\n",
       "      <td>6.850000</td>\n",
       "    </tr>\n",
       "    <tr>\n",
       "      <th>25%</th>\n",
       "      <td>364.900000</td>\n",
       "    </tr>\n",
       "    <tr>\n",
       "      <th>50%</th>\n",
       "      <td>683.760000</td>\n",
       "    </tr>\n",
       "    <tr>\n",
       "      <th>75%</th>\n",
       "      <td>1203.360000</td>\n",
       "    </tr>\n",
       "    <tr>\n",
       "      <th>max</th>\n",
       "      <td>232000.000000</td>\n",
       "    </tr>\n",
       "  </tbody>\n",
       "</table>\n",
       "</div>"
      ],
      "text/plain": [
       "           OBS_VALUE\n",
       "count    3837.000000\n",
       "mean     2699.689805\n",
       "std     12927.692364\n",
       "min         6.850000\n",
       "25%       364.900000\n",
       "50%       683.760000\n",
       "75%      1203.360000\n",
       "max    232000.000000"
      ]
     },
     "execution_count": 69,
     "metadata": {},
     "output_type": "execute_result"
    }
   ],
   "source": [
    "td.describe()"
   ]
  },
  {
   "cell_type": "code",
   "execution_count": 70,
   "id": "12d0a385",
   "metadata": {
    "scrolled": true
   },
   "outputs": [
    {
     "data": {
      "text/html": [
       "<div>\n",
       "<style scoped>\n",
       "    .dataframe tbody tr th:only-of-type {\n",
       "        vertical-align: middle;\n",
       "    }\n",
       "\n",
       "    .dataframe tbody tr th {\n",
       "        vertical-align: top;\n",
       "    }\n",
       "\n",
       "    .dataframe thead th {\n",
       "        text-align: right;\n",
       "    }\n",
       "</style>\n",
       "<table border=\"1\" class=\"dataframe\">\n",
       "  <thead>\n",
       "    <tr style=\"text-align: right;\">\n",
       "      <th></th>\n",
       "      <th>DATAFLOW</th>\n",
       "      <th>LAST UPDATE</th>\n",
       "      <th>freq</th>\n",
       "      <th>currency</th>\n",
       "      <th>geo</th>\n",
       "      <th>TIME_PERIOD</th>\n",
       "      <th>OBS_FLAG</th>\n",
       "    </tr>\n",
       "  </thead>\n",
       "  <tbody>\n",
       "    <tr>\n",
       "      <th>count</th>\n",
       "      <td>5349</td>\n",
       "      <td>5349</td>\n",
       "      <td>5349</td>\n",
       "      <td>5349</td>\n",
       "      <td>5349</td>\n",
       "      <td>5349</td>\n",
       "      <td>1570</td>\n",
       "    </tr>\n",
       "    <tr>\n",
       "      <th>unique</th>\n",
       "      <td>1</td>\n",
       "      <td>1</td>\n",
       "      <td>1</td>\n",
       "      <td>3</td>\n",
       "      <td>37</td>\n",
       "      <td>50</td>\n",
       "      <td>2</td>\n",
       "    </tr>\n",
       "    <tr>\n",
       "      <th>top</th>\n",
       "      <td>ESTAT:EARN_MW_CUR(1.0)</td>\n",
       "      <td>21/07/23 11:00:00</td>\n",
       "      <td>S</td>\n",
       "      <td>NAC</td>\n",
       "      <td>US</td>\n",
       "      <td>2020-S2</td>\n",
       "      <td>z</td>\n",
       "    </tr>\n",
       "    <tr>\n",
       "      <th>freq</th>\n",
       "      <td>5349</td>\n",
       "      <td>5349</td>\n",
       "      <td>5349</td>\n",
       "      <td>1784</td>\n",
       "      <td>150</td>\n",
       "      <td>111</td>\n",
       "      <td>1512</td>\n",
       "    </tr>\n",
       "  </tbody>\n",
       "</table>\n",
       "</div>"
      ],
      "text/plain": [
       "                      DATAFLOW        LAST UPDATE  freq currency   geo  \\\n",
       "count                     5349               5349  5349     5349  5349   \n",
       "unique                       1                  1     1        3    37   \n",
       "top     ESTAT:EARN_MW_CUR(1.0)  21/07/23 11:00:00     S      NAC    US   \n",
       "freq                      5349               5349  5349     1784   150   \n",
       "\n",
       "       TIME_PERIOD OBS_FLAG  \n",
       "count         5349     1570  \n",
       "unique          50        2  \n",
       "top        2020-S2        z  \n",
       "freq           111     1512  "
      ]
     },
     "execution_count": 70,
     "metadata": {},
     "output_type": "execute_result"
    }
   ],
   "source": [
    "td.describe(include=object)"
   ]
  },
  {
   "cell_type": "code",
   "execution_count": 71,
   "id": "5d4c53d1",
   "metadata": {},
   "outputs": [
    {
     "name": "stdout",
     "output_type": "stream",
     "text": [
      "<class 'pandas.core.frame.DataFrame'>\n",
      "RangeIndex: 5349 entries, 0 to 5348\n",
      "Data columns (total 8 columns):\n",
      " #   Column       Non-Null Count  Dtype  \n",
      "---  ------       --------------  -----  \n",
      " 0   DATAFLOW     5349 non-null   object \n",
      " 1   LAST UPDATE  5349 non-null   object \n",
      " 2   freq         5349 non-null   object \n",
      " 3   currency     5349 non-null   object \n",
      " 4   geo          5349 non-null   object \n",
      " 5   TIME_PERIOD  5349 non-null   object \n",
      " 6   OBS_VALUE    3837 non-null   float64\n",
      " 7   OBS_FLAG     1570 non-null   object \n",
      "dtypes: float64(1), object(7)\n",
      "memory usage: 334.4+ KB\n"
     ]
    }
   ],
   "source": [
    "td.info()"
   ]
  },
  {
   "cell_type": "code",
   "execution_count": 73,
   "id": "1a6dff51",
   "metadata": {},
   "outputs": [],
   "source": [
    "td = td.iloc[:,6].values"
   ]
  },
  {
   "cell_type": "code",
   "execution_count": 74,
   "id": "5dfe02e7",
   "metadata": {},
   "outputs": [
    {
     "data": {
      "text/plain": [
       "numpy.ndarray"
      ]
     },
     "execution_count": 74,
     "metadata": {},
     "output_type": "execute_result"
    }
   ],
   "source": [
    "type(td)"
   ]
  },
  {
   "cell_type": "code",
   "execution_count": 75,
   "id": "2959f34f",
   "metadata": {},
   "outputs": [],
   "source": [
    "from sklearn.preprocessing import MinMaxScaler"
   ]
  },
  {
   "cell_type": "code",
   "execution_count": 76,
   "id": "641ba99c",
   "metadata": {},
   "outputs": [],
   "source": [
    "scaler = MinMaxScaler()"
   ]
  },
  {
   "cell_type": "code",
   "execution_count": 77,
   "id": "53ea0454",
   "metadata": {},
   "outputs": [],
   "source": [
    "td = scaler.fit_transform(td.reshape(-1,1))"
   ]
  },
  {
   "cell_type": "code",
   "execution_count": 78,
   "id": "873af806",
   "metadata": {},
   "outputs": [],
   "source": [
    "x_td = []\n",
    "y_td = []"
   ]
  },
  {
   "cell_type": "markdown",
   "id": "bc17f23e",
   "metadata": {},
   "source": [
    "Our data shows 48 semesters, therefore we are going to use our 24 semesters to predict "
   ]
  },
  {
   "cell_type": "code",
   "execution_count": 79,
   "id": "3c7e82f9",
   "metadata": {},
   "outputs": [],
   "source": [
    "for i in range(24, len(td)):\n",
    "    x_td.append(td[i-24:i, 0])\n",
    "    y_td.append(td[i,0])"
   ]
  },
  {
   "cell_type": "code",
   "execution_count": 80,
   "id": "02e8eafc",
   "metadata": {},
   "outputs": [],
   "source": [
    "x_td = np.array(x_td)\n",
    "y_td = np.array(y_td)"
   ]
  },
  {
   "cell_type": "code",
   "execution_count": 81,
   "id": "294aef57",
   "metadata": {},
   "outputs": [
    {
     "name": "stdout",
     "output_type": "stream",
     "text": [
      "(5325, 24)\n",
      "(5325,)\n"
     ]
    }
   ],
   "source": [
    "print(x_td.shape)\n",
    "\n",
    "print(y_td.shape)"
   ]
  },
  {
   "cell_type": "code",
   "execution_count": 82,
   "id": "ee815138",
   "metadata": {},
   "outputs": [],
   "source": [
    "x_td = np.reshape(x_td, (x_td.shape[0],\n",
    "                         x_td.shape[1],\n",
    "                         1))"
   ]
  },
  {
   "cell_type": "code",
   "execution_count": 19,
   "id": "f9a97d4e",
   "metadata": {},
   "outputs": [
    {
     "name": "stdout",
     "output_type": "stream",
     "text": [
      "(5325, 24, 1)\n"
     ]
    }
   ],
   "source": [
    "print(x_td.shape)"
   ]
  },
  {
   "cell_type": "code",
   "execution_count": 101,
   "id": "8c3ff005",
   "metadata": {},
   "outputs": [],
   "source": [
    "from tensorflow.keras.models import Sequential\n",
    "from tensorflow.keras.layers import Dense\n",
    "from tensorflow.keras.layers import LSTM\n",
    "from tensorflow.keras.layers import Dropout"
   ]
  },
  {
   "cell_type": "code",
   "execution_count": 102,
   "id": "31e4b771",
   "metadata": {},
   "outputs": [],
   "source": [
    "rnn = Sequential()"
   ]
  },
  {
   "cell_type": "code",
   "execution_count": 103,
   "id": "98db1172",
   "metadata": {},
   "outputs": [],
   "source": [
    "rnn.add(LSTM(units = 45, return_sequences = True, input_shape = (x_td.shape[1],1)))"
   ]
  },
  {
   "cell_type": "code",
   "execution_count": 104,
   "id": "b20be526",
   "metadata": {},
   "outputs": [],
   "source": [
    "rnn.add(Dropout(0.2))"
   ]
  },
  {
   "cell_type": "code",
   "execution_count": 105,
   "id": "00579ac0",
   "metadata": {},
   "outputs": [],
   "source": [
    "rnn.add(LSTM(units = 45, return_sequences =True))\n",
    "rnn.add(Dropout(0.2))\n",
    "rnn.add(LSTM(units = 45, return_sequences =True))\n",
    "rnn.add(Dropout(0.2))\n",
    "rnn.add(LSTM(units = 45))\n",
    "rnn.add(Dropout(0.2))"
   ]
  },
  {
   "cell_type": "code",
   "execution_count": 106,
   "id": "0c580519",
   "metadata": {},
   "outputs": [],
   "source": [
    "rnn.add(Dense(units = 1))"
   ]
  },
  {
   "cell_type": "code",
   "execution_count": 107,
   "id": "f2ff93a1",
   "metadata": {},
   "outputs": [],
   "source": [
    "rnn.compile(optimizer = 'adam', loss = 'mean_squared_error')"
   ]
  },
  {
   "cell_type": "code",
   "execution_count": 108,
   "id": "6272d3b5",
   "metadata": {},
   "outputs": [
    {
     "name": "stdout",
     "output_type": "stream",
     "text": [
      "Epoch 1/50\n",
      "134/134 [==============================] - 22s 52ms/step - loss: nan\n",
      "Epoch 2/50\n",
      "134/134 [==============================] - 7s 54ms/step - loss: nan\n",
      "Epoch 3/50\n",
      "134/134 [==============================] - 7s 54ms/step - loss: nan\n",
      "Epoch 4/50\n",
      "134/134 [==============================] - 7s 54ms/step - loss: nan\n",
      "Epoch 5/50\n",
      "134/134 [==============================] - 7s 53ms/step - loss: nan\n",
      "Epoch 6/50\n",
      "134/134 [==============================] - 7s 52ms/step - loss: nan\n",
      "Epoch 7/50\n",
      "134/134 [==============================] - 7s 53ms/step - loss: nan\n",
      "Epoch 8/50\n",
      "134/134 [==============================] - 7s 53ms/step - loss: nan\n",
      "Epoch 9/50\n",
      "134/134 [==============================] - 7s 53ms/step - loss: nan\n",
      "Epoch 10/50\n",
      "134/134 [==============================] - 7s 53ms/step - loss: nan\n",
      "Epoch 11/50\n",
      "134/134 [==============================] - 7s 52ms/step - loss: nan\n",
      "Epoch 12/50\n",
      "134/134 [==============================] - 7s 54ms/step - loss: nan\n",
      "Epoch 13/50\n",
      "134/134 [==============================] - 7s 54ms/step - loss: nan\n",
      "Epoch 14/50\n",
      "134/134 [==============================] - 7s 54ms/step - loss: nan\n",
      "Epoch 15/50\n",
      "134/134 [==============================] - 7s 53ms/step - loss: nan\n",
      "Epoch 16/50\n",
      "134/134 [==============================] - 7s 55ms/step - loss: nan\n",
      "Epoch 17/50\n",
      "134/134 [==============================] - 7s 55ms/step - loss: nan\n",
      "Epoch 18/50\n",
      "134/134 [==============================] - 7s 55ms/step - loss: nan\n",
      "Epoch 19/50\n",
      "134/134 [==============================] - 7s 56ms/step - loss: nan\n",
      "Epoch 20/50\n",
      "134/134 [==============================] - 8s 57ms/step - loss: nan\n",
      "Epoch 21/50\n",
      "134/134 [==============================] - 7s 56ms/step - loss: nan\n",
      "Epoch 22/50\n",
      "134/134 [==============================] - 7s 55ms/step - loss: nan\n",
      "Epoch 23/50\n",
      "134/134 [==============================] - 8s 56ms/step - loss: nan\n",
      "Epoch 24/50\n",
      "134/134 [==============================] - 8s 58ms/step - loss: nan\n",
      "Epoch 25/50\n",
      "134/134 [==============================] - 8s 56ms/step - loss: nan\n",
      "Epoch 26/50\n",
      "134/134 [==============================] - 7s 56ms/step - loss: nan\n",
      "Epoch 27/50\n",
      "134/134 [==============================] - 7s 55ms/step - loss: nan\n",
      "Epoch 28/50\n",
      "134/134 [==============================] - 7s 55ms/step - loss: nan\n",
      "Epoch 29/50\n",
      "134/134 [==============================] - 7s 55ms/step - loss: nan\n",
      "Epoch 30/50\n",
      "134/134 [==============================] - 7s 55ms/step - loss: nan\n",
      "Epoch 31/50\n",
      "134/134 [==============================] - 7s 55ms/step - loss: nan\n",
      "Epoch 32/50\n",
      "134/134 [==============================] - 7s 55ms/step - loss: nan\n",
      "Epoch 33/50\n",
      "134/134 [==============================] - 8s 56ms/step - loss: nan\n",
      "Epoch 34/50\n",
      "134/134 [==============================] - 7s 56ms/step - loss: nan\n",
      "Epoch 35/50\n",
      "134/134 [==============================] - 7s 56ms/step - loss: nan\n",
      "Epoch 36/50\n",
      "134/134 [==============================] - 7s 55ms/step - loss: nan\n",
      "Epoch 37/50\n",
      "134/134 [==============================] - 8s 56ms/step - loss: nan\n",
      "Epoch 38/50\n",
      "134/134 [==============================] - 7s 56ms/step - loss: nan\n",
      "Epoch 39/50\n",
      "134/134 [==============================] - 7s 54ms/step - loss: nan\n",
      "Epoch 40/50\n",
      "134/134 [==============================] - 8s 61ms/step - loss: nan\n",
      "Epoch 41/50\n",
      "134/134 [==============================] - 8s 59ms/step - loss: nan\n",
      "Epoch 42/50\n",
      "134/134 [==============================] - 8s 59ms/step - loss: nan\n",
      "Epoch 43/50\n",
      "134/134 [==============================] - 9s 65ms/step - loss: nan\n",
      "Epoch 44/50\n",
      "134/134 [==============================] - 8s 61ms/step - loss: nan\n",
      "Epoch 45/50\n",
      "134/134 [==============================] - 8s 59ms/step - loss: nan\n",
      "Epoch 46/50\n",
      "134/134 [==============================] - 8s 60ms/step - loss: nan\n",
      "Epoch 47/50\n",
      "134/134 [==============================] - 8s 63ms/step - loss: nan\n",
      "Epoch 48/50\n",
      "134/134 [==============================] - 8s 57ms/step - loss: nan\n",
      "Epoch 49/50\n",
      "134/134 [==============================] - 8s 56ms/step - loss: nan\n",
      "Epoch 50/50\n",
      "134/134 [==============================] - 8s 60ms/step - loss: nan\n"
     ]
    },
    {
     "data": {
      "text/plain": [
       "<keras.src.callbacks.History at 0x17081f64490>"
      ]
     },
     "execution_count": 108,
     "metadata": {},
     "output_type": "execute_result"
    }
   ],
   "source": [
    "rnn.fit(x_td, y_td, epochs = 50, batch_size =40)"
   ]
  },
  {
   "cell_type": "code",
   "execution_count": 35,
   "id": "72fa7456",
   "metadata": {},
   "outputs": [],
   "source": [
    "testdata = pd.read_csv('mweu.csv')"
   ]
  },
  {
   "cell_type": "code",
   "execution_count": 36,
   "id": "4356cbe4",
   "metadata": {
    "scrolled": true
   },
   "outputs": [
    {
     "data": {
      "text/html": [
       "<div>\n",
       "<style scoped>\n",
       "    .dataframe tbody tr th:only-of-type {\n",
       "        vertical-align: middle;\n",
       "    }\n",
       "\n",
       "    .dataframe tbody tr th {\n",
       "        vertical-align: top;\n",
       "    }\n",
       "\n",
       "    .dataframe thead th {\n",
       "        text-align: right;\n",
       "    }\n",
       "</style>\n",
       "<table border=\"1\" class=\"dataframe\">\n",
       "  <thead>\n",
       "    <tr style=\"text-align: right;\">\n",
       "      <th></th>\n",
       "      <th>European Union</th>\n",
       "      <th>per hour in EUR****</th>\n",
       "      <th>Unnamed: 2</th>\n",
       "      <th>last adjustment</th>\n",
       "      <th>Unnamed: 4</th>\n",
       "      <th>per hour in PPP (purchasing power parities, EUR)*****</th>\n",
       "      <th>Unnamed: 6</th>\n",
       "      <th>Unnamed: 7</th>\n",
       "    </tr>\n",
       "  </thead>\n",
       "  <tbody>\n",
       "    <tr>\n",
       "      <th>0</th>\n",
       "      <td>Luxembourg</td>\n",
       "      <td>13.80</td>\n",
       "      <td>NaN</td>\n",
       "      <td>01/01/2023</td>\n",
       "      <td>NaN</td>\n",
       "      <td>Germany</td>\n",
       "      <td>NaN</td>\n",
       "      <td>10.55</td>\n",
       "    </tr>\n",
       "    <tr>\n",
       "      <th>1</th>\n",
       "      <td>Germany</td>\n",
       "      <td>12.00</td>\n",
       "      <td>NaN</td>\n",
       "      <td>01/10/2022</td>\n",
       "      <td>NaN</td>\n",
       "      <td>Belgium</td>\n",
       "      <td>NaN</td>\n",
       "      <td>9.91</td>\n",
       "    </tr>\n",
       "    <tr>\n",
       "      <th>2</th>\n",
       "      <td>Belgium</td>\n",
       "      <td>11.85</td>\n",
       "      <td>NaN</td>\n",
       "      <td>01/12/2022</td>\n",
       "      <td>NaN</td>\n",
       "      <td>Luxembourg</td>\n",
       "      <td>NaN</td>\n",
       "      <td>9.89</td>\n",
       "    </tr>\n",
       "    <tr>\n",
       "      <th>3</th>\n",
       "      <td>Netherlands</td>\n",
       "      <td>11.75</td>\n",
       "      <td>NaN</td>\n",
       "      <td>01/01/2023</td>\n",
       "      <td>NaN</td>\n",
       "      <td>Netherlands</td>\n",
       "      <td>NaN</td>\n",
       "      <td>9.62</td>\n",
       "    </tr>\n",
       "    <tr>\n",
       "      <th>4</th>\n",
       "      <td>Ireland</td>\n",
       "      <td>11.30</td>\n",
       "      <td>NaN</td>\n",
       "      <td>01/01/2023</td>\n",
       "      <td>NaN</td>\n",
       "      <td>France</td>\n",
       "      <td>NaN</td>\n",
       "      <td>9.50</td>\n",
       "    </tr>\n",
       "    <tr>\n",
       "      <th>5</th>\n",
       "      <td>France</td>\n",
       "      <td>11.27</td>\n",
       "      <td>NaN</td>\n",
       "      <td>01/01/2023</td>\n",
       "      <td>NaN</td>\n",
       "      <td>Poland</td>\n",
       "      <td>NaN</td>\n",
       "      <td>7.93</td>\n",
       "    </tr>\n",
       "    <tr>\n",
       "      <th>6</th>\n",
       "      <td>Slovenia</td>\n",
       "      <td>6.96</td>\n",
       "      <td>NaN</td>\n",
       "      <td>01/01/2023</td>\n",
       "      <td>NaN</td>\n",
       "      <td>Ireland</td>\n",
       "      <td>NaN</td>\n",
       "      <td>7.65</td>\n",
       "    </tr>\n",
       "    <tr>\n",
       "      <th>7</th>\n",
       "      <td>Spain</td>\n",
       "      <td>6.55</td>\n",
       "      <td>NaN</td>\n",
       "      <td>01/01/2023</td>\n",
       "      <td>NaN</td>\n",
       "      <td>Slovenia</td>\n",
       "      <td>NaN</td>\n",
       "      <td>7.48</td>\n",
       "    </tr>\n",
       "    <tr>\n",
       "      <th>8</th>\n",
       "      <td>Cyprus</td>\n",
       "      <td>5.70</td>\n",
       "      <td>NaN</td>\n",
       "      <td>01/01/2023</td>\n",
       "      <td>NaN</td>\n",
       "      <td>Lithuania</td>\n",
       "      <td>NaN</td>\n",
       "      <td>6.78</td>\n",
       "    </tr>\n",
       "    <tr>\n",
       "      <th>9</th>\n",
       "      <td>Lithuania</td>\n",
       "      <td>5.14</td>\n",
       "      <td>NaN</td>\n",
       "      <td>01/01/2023</td>\n",
       "      <td>NaN</td>\n",
       "      <td>Spain</td>\n",
       "      <td>NaN</td>\n",
       "      <td>6.40</td>\n",
       "    </tr>\n",
       "    <tr>\n",
       "      <th>10</th>\n",
       "      <td>Poland</td>\n",
       "      <td>4.87</td>\n",
       "      <td>NaN</td>\n",
       "      <td>01/01/2023</td>\n",
       "      <td>NaN</td>\n",
       "      <td>Romania</td>\n",
       "      <td>NaN</td>\n",
       "      <td>6.29</td>\n",
       "    </tr>\n",
       "    <tr>\n",
       "      <th>11</th>\n",
       "      <td>Malta</td>\n",
       "      <td>4.82</td>\n",
       "      <td>NaN</td>\n",
       "      <td>01/01/2023</td>\n",
       "      <td>NaN</td>\n",
       "      <td>Cyprus</td>\n",
       "      <td>NaN</td>\n",
       "      <td>5.97</td>\n",
       "    </tr>\n",
       "    <tr>\n",
       "      <th>12</th>\n",
       "      <td>Portugal</td>\n",
       "      <td>4.50</td>\n",
       "      <td>NaN</td>\n",
       "      <td>01/01/2023</td>\n",
       "      <td>NaN</td>\n",
       "      <td>Croatia</td>\n",
       "      <td>NaN</td>\n",
       "      <td>5.38</td>\n",
       "    </tr>\n",
       "    <tr>\n",
       "      <th>13</th>\n",
       "      <td>Estonia</td>\n",
       "      <td>4.30</td>\n",
       "      <td>NaN</td>\n",
       "      <td>01/01/2023</td>\n",
       "      <td>NaN</td>\n",
       "      <td>Hungary</td>\n",
       "      <td>NaN</td>\n",
       "      <td>5.27</td>\n",
       "    </tr>\n",
       "    <tr>\n",
       "      <th>14</th>\n",
       "      <td>Czech Republic</td>\n",
       "      <td>4.23</td>\n",
       "      <td>NaN</td>\n",
       "      <td>01/01/2023</td>\n",
       "      <td>NaN</td>\n",
       "      <td>Malta</td>\n",
       "      <td>NaN</td>\n",
       "      <td>5.21</td>\n",
       "    </tr>\n",
       "    <tr>\n",
       "      <th>15</th>\n",
       "      <td>Greece</td>\n",
       "      <td>4.12</td>\n",
       "      <td>NaN</td>\n",
       "      <td>01/05/2022</td>\n",
       "      <td>NaN</td>\n",
       "      <td>Czech Republic</td>\n",
       "      <td>NaN</td>\n",
       "      <td>4.82</td>\n",
       "    </tr>\n",
       "    <tr>\n",
       "      <th>16</th>\n",
       "      <td>Croatia</td>\n",
       "      <td>4.05</td>\n",
       "      <td>NaN</td>\n",
       "      <td>01/01/2023</td>\n",
       "      <td>NaN</td>\n",
       "      <td>Portugal</td>\n",
       "      <td>NaN</td>\n",
       "      <td>4.77</td>\n",
       "    </tr>\n",
       "    <tr>\n",
       "      <th>17</th>\n",
       "      <td>Slovakia</td>\n",
       "      <td>4.02</td>\n",
       "      <td>NaN</td>\n",
       "      <td>01/01/2023</td>\n",
       "      <td>NaN</td>\n",
       "      <td>Estonia</td>\n",
       "      <td>NaN</td>\n",
       "      <td>4.71</td>\n",
       "    </tr>\n",
       "    <tr>\n",
       "      <th>18</th>\n",
       "      <td>Latvia</td>\n",
       "      <td>3.67</td>\n",
       "      <td>NaN</td>\n",
       "      <td>01/01/2023</td>\n",
       "      <td>NaN</td>\n",
       "      <td>Greece</td>\n",
       "      <td>NaN</td>\n",
       "      <td>4.48</td>\n",
       "    </tr>\n",
       "    <tr>\n",
       "      <th>19</th>\n",
       "      <td>Romania</td>\n",
       "      <td>3.64</td>\n",
       "      <td>NaN</td>\n",
       "      <td>01/01/2023</td>\n",
       "      <td>NaN</td>\n",
       "      <td>Latvia</td>\n",
       "      <td>NaN</td>\n",
       "      <td>4.39</td>\n",
       "    </tr>\n",
       "    <tr>\n",
       "      <th>20</th>\n",
       "      <td>Hungary</td>\n",
       "      <td>3.41</td>\n",
       "      <td>NaN</td>\n",
       "      <td>01/01/2023</td>\n",
       "      <td>NaN</td>\n",
       "      <td>Slovakia</td>\n",
       "      <td>NaN</td>\n",
       "      <td>4.25</td>\n",
       "    </tr>\n",
       "    <tr>\n",
       "      <th>21</th>\n",
       "      <td>Bulgaria</td>\n",
       "      <td>2.41</td>\n",
       "      <td>NaN</td>\n",
       "      <td>01/01/2023</td>\n",
       "      <td>NaN</td>\n",
       "      <td>Bulgaria</td>\n",
       "      <td>NaN</td>\n",
       "      <td>4.12</td>\n",
       "    </tr>\n",
       "  </tbody>\n",
       "</table>\n",
       "</div>"
      ],
      "text/plain": [
       "    European Union  per hour in EUR****  Unnamed: 2 last adjustment  \\\n",
       "0       Luxembourg                13.80         NaN      01/01/2023   \n",
       "1          Germany                12.00         NaN      01/10/2022   \n",
       "2          Belgium                11.85         NaN      01/12/2022   \n",
       "3      Netherlands                11.75         NaN      01/01/2023   \n",
       "4          Ireland                11.30         NaN      01/01/2023   \n",
       "5           France                11.27         NaN      01/01/2023   \n",
       "6         Slovenia                 6.96         NaN      01/01/2023   \n",
       "7            Spain                 6.55         NaN      01/01/2023   \n",
       "8           Cyprus                 5.70         NaN      01/01/2023   \n",
       "9        Lithuania                 5.14         NaN      01/01/2023   \n",
       "10          Poland                 4.87         NaN      01/01/2023   \n",
       "11           Malta                 4.82         NaN      01/01/2023   \n",
       "12        Portugal                 4.50         NaN      01/01/2023   \n",
       "13         Estonia                 4.30         NaN      01/01/2023   \n",
       "14  Czech Republic                 4.23         NaN      01/01/2023   \n",
       "15          Greece                 4.12         NaN      01/05/2022   \n",
       "16         Croatia                 4.05         NaN      01/01/2023   \n",
       "17        Slovakia                 4.02         NaN      01/01/2023   \n",
       "18          Latvia                 3.67         NaN      01/01/2023   \n",
       "19         Romania                 3.64         NaN      01/01/2023   \n",
       "20         Hungary                 3.41         NaN      01/01/2023   \n",
       "21        Bulgaria                 2.41         NaN      01/01/2023   \n",
       "\n",
       "    Unnamed: 4 per hour in PPP (purchasing power parities, EUR)*****  \\\n",
       "0          NaN                                            Germany      \n",
       "1          NaN                                            Belgium      \n",
       "2          NaN                                         Luxembourg      \n",
       "3          NaN                                        Netherlands      \n",
       "4          NaN                                             France      \n",
       "5          NaN                                             Poland      \n",
       "6          NaN                                            Ireland      \n",
       "7          NaN                                           Slovenia      \n",
       "8          NaN                                          Lithuania      \n",
       "9          NaN                                              Spain      \n",
       "10         NaN                                            Romania      \n",
       "11         NaN                                             Cyprus      \n",
       "12         NaN                                            Croatia      \n",
       "13         NaN                                            Hungary      \n",
       "14         NaN                                              Malta      \n",
       "15         NaN                                     Czech Republic      \n",
       "16         NaN                                           Portugal      \n",
       "17         NaN                                            Estonia      \n",
       "18         NaN                                             Greece      \n",
       "19         NaN                                             Latvia      \n",
       "20         NaN                                           Slovakia      \n",
       "21         NaN                                           Bulgaria      \n",
       "\n",
       "    Unnamed: 6  Unnamed: 7  \n",
       "0          NaN       10.55  \n",
       "1          NaN        9.91  \n",
       "2          NaN        9.89  \n",
       "3          NaN        9.62  \n",
       "4          NaN        9.50  \n",
       "5          NaN        7.93  \n",
       "6          NaN        7.65  \n",
       "7          NaN        7.48  \n",
       "8          NaN        6.78  \n",
       "9          NaN        6.40  \n",
       "10         NaN        6.29  \n",
       "11         NaN        5.97  \n",
       "12         NaN        5.38  \n",
       "13         NaN        5.27  \n",
       "14         NaN        5.21  \n",
       "15         NaN        4.82  \n",
       "16         NaN        4.77  \n",
       "17         NaN        4.71  \n",
       "18         NaN        4.48  \n",
       "19         NaN        4.39  \n",
       "20         NaN        4.25  \n",
       "21         NaN        4.12  "
      ]
     },
     "execution_count": 36,
     "metadata": {},
     "output_type": "execute_result"
    }
   ],
   "source": [
    "testdata"
   ]
  },
  {
   "cell_type": "code",
   "execution_count": 37,
   "id": "87776d76",
   "metadata": {},
   "outputs": [],
   "source": [
    "testdata = testdata.iloc[:,2].values"
   ]
  },
  {
   "cell_type": "code",
   "execution_count": 38,
   "id": "9fe4cee6",
   "metadata": {},
   "outputs": [
    {
     "name": "stdout",
     "output_type": "stream",
     "text": [
      "(22,)\n"
     ]
    }
   ],
   "source": [
    "print(testdata.shape)"
   ]
  },
  {
   "cell_type": "code",
   "execution_count": 39,
   "id": "56728446",
   "metadata": {},
   "outputs": [
    {
     "data": {
      "text/plain": [
       "[<matplotlib.lines.Line2D at 0x170ee1dbe10>]"
      ]
     },
     "execution_count": 39,
     "metadata": {},
     "output_type": "execute_result"
    },
    {
     "data": {
      "image/png": "[encoded data removed]",
      "text/plain": [
       "<Figure size 640x480 with 1 Axes>"
      ]
     },
     "metadata": {},
     "output_type": "display_data"
    }
   ],
   "source": [
    "plt.plot(testdata)"
   ]
  },
  {
   "cell_type": "code",
   "execution_count": 41,
   "id": "ca51286a",
   "metadata": {},
   "outputs": [
    {
     "ename": "FileNotFoundError",
     "evalue": "[Errno 2] No such file or directory: 'data/currestat.csv'",
     "output_type": "error",
     "traceback": [
      "\u001b[1;31m---------------------------------------------------------------------------\u001b[0m",
      "\u001b[1;31mFileNotFoundError\u001b[0m                         Traceback (most recent call last)",
      "Cell \u001b[1;32mIn[41], line 1\u001b[0m\n\u001b[1;32m----> 1\u001b[0m unscaledtd \u001b[38;5;241m=\u001b[39m pd\u001b[38;5;241m.\u001b[39mread_csv(\u001b[38;5;124m'\u001b[39m\u001b[38;5;124mdata/currestat.csv\u001b[39m\u001b[38;5;124m'\u001b[39m)\n\u001b[0;32m      3\u001b[0m unscaled_testdata \u001b[38;5;241m=\u001b[39m pd\u001b[38;5;241m.\u001b[39mread_csv(\u001b[38;5;124m'\u001b[39m\u001b[38;5;124mdata/mweu.csv\u001b[39m\u001b[38;5;124m'\u001b[39m)\n",
      "File \u001b[1;32m~\\anaconda3\\Lib\\site-packages\\pandas\\util\\_decorators.py:211\u001b[0m, in \u001b[0;36mdeprecate_kwarg.<locals>._deprecate_kwarg.<locals>.wrapper\u001b[1;34m(*args, **kwargs)\u001b[0m\n\u001b[0;32m    209\u001b[0m     \u001b[38;5;28;01melse\u001b[39;00m:\n\u001b[0;32m    210\u001b[0m         kwargs[new_arg_name] \u001b[38;5;241m=\u001b[39m new_arg_value\n\u001b[1;32m--> 211\u001b[0m \u001b[38;5;28;01mreturn\u001b[39;00m func(\u001b[38;5;241m*\u001b[39margs, \u001b[38;5;241m*\u001b[39m\u001b[38;5;241m*\u001b[39mkwargs)\n",
      "File \u001b[1;32m~\\anaconda3\\Lib\\site-packages\\pandas\\util\\_decorators.py:331\u001b[0m, in \u001b[0;36mdeprecate_nonkeyword_arguments.<locals>.decorate.<locals>.wrapper\u001b[1;34m(*args, **kwargs)\u001b[0m\n\u001b[0;32m    325\u001b[0m \u001b[38;5;28;01mif\u001b[39;00m \u001b[38;5;28mlen\u001b[39m(args) \u001b[38;5;241m>\u001b[39m num_allow_args:\n\u001b[0;32m    326\u001b[0m     warnings\u001b[38;5;241m.\u001b[39mwarn(\n\u001b[0;32m    327\u001b[0m         msg\u001b[38;5;241m.\u001b[39mformat(arguments\u001b[38;5;241m=\u001b[39m_format_argument_list(allow_args)),\n\u001b[0;32m    328\u001b[0m         \u001b[38;5;167;01mFutureWarning\u001b[39;00m,\n\u001b[0;32m    329\u001b[0m         stacklevel\u001b[38;5;241m=\u001b[39mfind_stack_level(),\n\u001b[0;32m    330\u001b[0m     )\n\u001b[1;32m--> 331\u001b[0m \u001b[38;5;28;01mreturn\u001b[39;00m func(\u001b[38;5;241m*\u001b[39margs, \u001b[38;5;241m*\u001b[39m\u001b[38;5;241m*\u001b[39mkwargs)\n",
      "File \u001b[1;32m~\\anaconda3\\Lib\\site-packages\\pandas\\io\\parsers\\readers.py:950\u001b[0m, in \u001b[0;36mread_csv\u001b[1;34m(filepath_or_buffer, sep, delimiter, header, names, index_col, usecols, squeeze, prefix, mangle_dupe_cols, dtype, engine, converters, true_values, false_values, skipinitialspace, skiprows, skipfooter, nrows, na_values, keep_default_na, na_filter, verbose, skip_blank_lines, parse_dates, infer_datetime_format, keep_date_col, date_parser, dayfirst, cache_dates, iterator, chunksize, compression, thousands, decimal, lineterminator, quotechar, quoting, doublequote, escapechar, comment, encoding, encoding_errors, dialect, error_bad_lines, warn_bad_lines, on_bad_lines, delim_whitespace, low_memory, memory_map, float_precision, storage_options)\u001b[0m\n\u001b[0;32m    935\u001b[0m kwds_defaults \u001b[38;5;241m=\u001b[39m _refine_defaults_read(\n\u001b[0;32m    936\u001b[0m     dialect,\n\u001b[0;32m    937\u001b[0m     delimiter,\n\u001b[1;32m   (...)\u001b[0m\n\u001b[0;32m    946\u001b[0m     defaults\u001b[38;5;241m=\u001b[39m{\u001b[38;5;124m\"\u001b[39m\u001b[38;5;124mdelimiter\u001b[39m\u001b[38;5;124m\"\u001b[39m: \u001b[38;5;124m\"\u001b[39m\u001b[38;5;124m,\u001b[39m\u001b[38;5;124m\"\u001b[39m},\n\u001b[0;32m    947\u001b[0m )\n\u001b[0;32m    948\u001b[0m kwds\u001b[38;5;241m.\u001b[39mupdate(kwds_defaults)\n\u001b[1;32m--> 950\u001b[0m \u001b[38;5;28;01mreturn\u001b[39;00m _read(filepath_or_buffer, kwds)\n",
      "File \u001b[1;32m~\\anaconda3\\Lib\\site-packages\\pandas\\io\\parsers\\readers.py:605\u001b[0m, in \u001b[0;36m_read\u001b[1;34m(filepath_or_buffer, kwds)\u001b[0m\n\u001b[0;32m    602\u001b[0m _validate_names(kwds\u001b[38;5;241m.\u001b[39mget(\u001b[38;5;124m\"\u001b[39m\u001b[38;5;124mnames\u001b[39m\u001b[38;5;124m\"\u001b[39m, \u001b[38;5;28;01mNone\u001b[39;00m))\n\u001b[0;32m    604\u001b[0m \u001b[38;5;66;03m# Create the parser.\u001b[39;00m\n\u001b[1;32m--> 605\u001b[0m parser \u001b[38;5;241m=\u001b[39m TextFileReader(filepath_or_buffer, \u001b[38;5;241m*\u001b[39m\u001b[38;5;241m*\u001b[39mkwds)\n\u001b[0;32m    607\u001b[0m \u001b[38;5;28;01mif\u001b[39;00m chunksize \u001b[38;5;129;01mor\u001b[39;00m iterator:\n\u001b[0;32m    608\u001b[0m     \u001b[38;5;28;01mreturn\u001b[39;00m parser\n",
      "File \u001b[1;32m~\\anaconda3\\Lib\\site-packages\\pandas\\io\\parsers\\readers.py:1442\u001b[0m, in \u001b[0;36mTextFileReader.__init__\u001b[1;34m(self, f, engine, **kwds)\u001b[0m\n\u001b[0;32m   1439\u001b[0m     \u001b[38;5;28mself\u001b[39m\u001b[38;5;241m.\u001b[39moptions[\u001b[38;5;124m\"\u001b[39m\u001b[38;5;124mhas_index_names\u001b[39m\u001b[38;5;124m\"\u001b[39m] \u001b[38;5;241m=\u001b[39m kwds[\u001b[38;5;124m\"\u001b[39m\u001b[38;5;124mhas_index_names\u001b[39m\u001b[38;5;124m\"\u001b[39m]\n\u001b[0;32m   1441\u001b[0m \u001b[38;5;28mself\u001b[39m\u001b[38;5;241m.\u001b[39mhandles: IOHandles \u001b[38;5;241m|\u001b[39m \u001b[38;5;28;01mNone\u001b[39;00m \u001b[38;5;241m=\u001b[39m \u001b[38;5;28;01mNone\u001b[39;00m\n\u001b[1;32m-> 1442\u001b[0m \u001b[38;5;28mself\u001b[39m\u001b[38;5;241m.\u001b[39m_engine \u001b[38;5;241m=\u001b[39m \u001b[38;5;28mself\u001b[39m\u001b[38;5;241m.\u001b[39m_make_engine(f, \u001b[38;5;28mself\u001b[39m\u001b[38;5;241m.\u001b[39mengine)\n",
      "File \u001b[1;32m~\\anaconda3\\Lib\\site-packages\\pandas\\io\\parsers\\readers.py:1735\u001b[0m, in \u001b[0;36mTextFileReader._make_engine\u001b[1;34m(self, f, engine)\u001b[0m\n\u001b[0;32m   1733\u001b[0m     \u001b[38;5;28;01mif\u001b[39;00m \u001b[38;5;124m\"\u001b[39m\u001b[38;5;124mb\u001b[39m\u001b[38;5;124m\"\u001b[39m \u001b[38;5;129;01mnot\u001b[39;00m \u001b[38;5;129;01min\u001b[39;00m mode:\n\u001b[0;32m   1734\u001b[0m         mode \u001b[38;5;241m+\u001b[39m\u001b[38;5;241m=\u001b[39m \u001b[38;5;124m\"\u001b[39m\u001b[38;5;124mb\u001b[39m\u001b[38;5;124m\"\u001b[39m\n\u001b[1;32m-> 1735\u001b[0m \u001b[38;5;28mself\u001b[39m\u001b[38;5;241m.\u001b[39mhandles \u001b[38;5;241m=\u001b[39m get_handle(\n\u001b[0;32m   1736\u001b[0m     f,\n\u001b[0;32m   1737\u001b[0m     mode,\n\u001b[0;32m   1738\u001b[0m     encoding\u001b[38;5;241m=\u001b[39m\u001b[38;5;28mself\u001b[39m\u001b[38;5;241m.\u001b[39moptions\u001b[38;5;241m.\u001b[39mget(\u001b[38;5;124m\"\u001b[39m\u001b[38;5;124mencoding\u001b[39m\u001b[38;5;124m\"\u001b[39m, \u001b[38;5;28;01mNone\u001b[39;00m),\n\u001b[0;32m   1739\u001b[0m     compression\u001b[38;5;241m=\u001b[39m\u001b[38;5;28mself\u001b[39m\u001b[38;5;241m.\u001b[39moptions\u001b[38;5;241m.\u001b[39mget(\u001b[38;5;124m\"\u001b[39m\u001b[38;5;124mcompression\u001b[39m\u001b[38;5;124m\"\u001b[39m, \u001b[38;5;28;01mNone\u001b[39;00m),\n\u001b[0;32m   1740\u001b[0m     memory_map\u001b[38;5;241m=\u001b[39m\u001b[38;5;28mself\u001b[39m\u001b[38;5;241m.\u001b[39moptions\u001b[38;5;241m.\u001b[39mget(\u001b[38;5;124m\"\u001b[39m\u001b[38;5;124mmemory_map\u001b[39m\u001b[38;5;124m\"\u001b[39m, \u001b[38;5;28;01mFalse\u001b[39;00m),\n\u001b[0;32m   1741\u001b[0m     is_text\u001b[38;5;241m=\u001b[39mis_text,\n\u001b[0;32m   1742\u001b[0m     errors\u001b[38;5;241m=\u001b[39m\u001b[38;5;28mself\u001b[39m\u001b[38;5;241m.\u001b[39moptions\u001b[38;5;241m.\u001b[39mget(\u001b[38;5;124m\"\u001b[39m\u001b[38;5;124mencoding_errors\u001b[39m\u001b[38;5;124m\"\u001b[39m, \u001b[38;5;124m\"\u001b[39m\u001b[38;5;124mstrict\u001b[39m\u001b[38;5;124m\"\u001b[39m),\n\u001b[0;32m   1743\u001b[0m     storage_options\u001b[38;5;241m=\u001b[39m\u001b[38;5;28mself\u001b[39m\u001b[38;5;241m.\u001b[39moptions\u001b[38;5;241m.\u001b[39mget(\u001b[38;5;124m\"\u001b[39m\u001b[38;5;124mstorage_options\u001b[39m\u001b[38;5;124m\"\u001b[39m, \u001b[38;5;28;01mNone\u001b[39;00m),\n\u001b[0;32m   1744\u001b[0m )\n\u001b[0;32m   1745\u001b[0m \u001b[38;5;28;01massert\u001b[39;00m \u001b[38;5;28mself\u001b[39m\u001b[38;5;241m.\u001b[39mhandles \u001b[38;5;129;01mis\u001b[39;00m \u001b[38;5;129;01mnot\u001b[39;00m \u001b[38;5;28;01mNone\u001b[39;00m\n\u001b[0;32m   1746\u001b[0m f \u001b[38;5;241m=\u001b[39m \u001b[38;5;28mself\u001b[39m\u001b[38;5;241m.\u001b[39mhandles\u001b[38;5;241m.\u001b[39mhandle\n",
      "File \u001b[1;32m~\\anaconda3\\Lib\\site-packages\\pandas\\io\\common.py:856\u001b[0m, in \u001b[0;36mget_handle\u001b[1;34m(path_or_buf, mode, encoding, compression, memory_map, is_text, errors, storage_options)\u001b[0m\n\u001b[0;32m    851\u001b[0m \u001b[38;5;28;01melif\u001b[39;00m \u001b[38;5;28misinstance\u001b[39m(handle, \u001b[38;5;28mstr\u001b[39m):\n\u001b[0;32m    852\u001b[0m     \u001b[38;5;66;03m# Check whether the filename is to be opened in binary mode.\u001b[39;00m\n\u001b[0;32m    853\u001b[0m     \u001b[38;5;66;03m# Binary mode does not support 'encoding' and 'newline'.\u001b[39;00m\n\u001b[0;32m    854\u001b[0m     \u001b[38;5;28;01mif\u001b[39;00m ioargs\u001b[38;5;241m.\u001b[39mencoding \u001b[38;5;129;01mand\u001b[39;00m \u001b[38;5;124m\"\u001b[39m\u001b[38;5;124mb\u001b[39m\u001b[38;5;124m\"\u001b[39m \u001b[38;5;129;01mnot\u001b[39;00m \u001b[38;5;129;01min\u001b[39;00m ioargs\u001b[38;5;241m.\u001b[39mmode:\n\u001b[0;32m    855\u001b[0m         \u001b[38;5;66;03m# Encoding\u001b[39;00m\n\u001b[1;32m--> 856\u001b[0m         handle \u001b[38;5;241m=\u001b[39m \u001b[38;5;28mopen\u001b[39m(\n\u001b[0;32m    857\u001b[0m             handle,\n\u001b[0;32m    858\u001b[0m             ioargs\u001b[38;5;241m.\u001b[39mmode,\n\u001b[0;32m    859\u001b[0m             encoding\u001b[38;5;241m=\u001b[39mioargs\u001b[38;5;241m.\u001b[39mencoding,\n\u001b[0;32m    860\u001b[0m             errors\u001b[38;5;241m=\u001b[39merrors,\n\u001b[0;32m    861\u001b[0m             newline\u001b[38;5;241m=\u001b[39m\u001b[38;5;124m\"\u001b[39m\u001b[38;5;124m\"\u001b[39m,\n\u001b[0;32m    862\u001b[0m         )\n\u001b[0;32m    863\u001b[0m     \u001b[38;5;28;01melse\u001b[39;00m:\n\u001b[0;32m    864\u001b[0m         \u001b[38;5;66;03m# Binary mode\u001b[39;00m\n\u001b[0;32m    865\u001b[0m         handle \u001b[38;5;241m=\u001b[39m \u001b[38;5;28mopen\u001b[39m(handle, ioargs\u001b[38;5;241m.\u001b[39mmode)\n",
      "\u001b[1;31mFileNotFoundError\u001b[0m: [Errno 2] No such file or directory: 'data/currestat.csv'"
     ]
    }
   ],
   "source": [
    "unscaledtd = pd.read_csv('data/currestat.csv')\n",
    "\n",
    "unscaled_testdata = pd.read_csv('data/mweu.csv')"
   ]
  },
  {
   "cell_type": "raw",
   "id": "ec4fdfa0",
   "metadata": {},
   "source": []
  },
  {
   "cell_type": "code",
   "execution_count": null,
   "id": "0417241b",
   "metadata": {},
   "outputs": [],
   "source": []
  }
 ],
 "metadata": {
  "kernelspec": {
   "display_name": "Python 3 (ipykernel)",
   "language": "python",
   "name": "python3"
  },
  "language_info": {
   "codemirror_mode": {
    "name": "ipython",
    "version": 3
   },
   "file_extension": ".py",
   "mimetype": "text/x-python",
   "name": "python",
   "nbconvert_exporter": "python",
   "pygments_lexer": "ipython3",
   "version": "3.11.4"
  }
 },
 "nbformat": 4,
 "nbformat_minor": 5
}
